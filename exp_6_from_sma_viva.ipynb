{
  "nbformat": 4,
  "nbformat_minor": 0,
  "metadata": {
    "colab": {
      "provenance": []
    },
    "kernelspec": {
      "name": "python3",
      "display_name": "Python 3"
    },
    "language_info": {
      "name": "python"
    }
  },
  "cells": [
    {
      "cell_type": "code",
      "execution_count": null,
      "metadata": {
        "colab": {
          "base_uri": "https://localhost:8080/"
        },
        "id": "dsErOI1ifyBm",
        "outputId": "e3e8fbd2-2a01-48d5-8852-aee01688c2f5"
      },
      "outputs": [
        {
          "output_type": "stream",
          "name": "stdout",
          "text": [
            "                                                  Review Sentiment\n",
            "0      Fast shipping but this product is very cheaply...  Positive\n",
            "1      This case takes so long to ship and it's not e...  Positive\n",
            "2      Good for not droids. Not good for iPhones. You...  Positive\n",
            "3      The cable was not compatible between my macboo...   Neutral\n",
            "4      The case is nice but did not have a glow light...  Positive\n",
            "...                                                  ...       ...\n",
            "24995  These cables (lightning) are far superior to m...  Positive\n",
            "24996  This unit performs exactly as advertised.  I u...  Positive\n",
            "24997  I had the key cut at a local hardware store cu...  Positive\n",
            "24998  I love my case I ordered from amazon. It wasn'...  Positive\n",
            "24999  Awsome!!! I loved this little speaker. It has ...  Positive\n",
            "\n",
            "[25000 rows x 2 columns]\n"
          ]
        }
      ],
      "source": [
        "import pandas as pd\n",
        "from textblob import TextBlob\n",
        "\n",
        "# Load the dataset from CSV file\n",
        "df = pd.read_csv('/content/sample_data/AmazonReview (1).csv')\n",
        "\n",
        "# Handle missing values in the 'Review' column\n",
        "df['Review'].fillna('', inplace=True)\n",
        "\n",
        "# Perform sentiment analysis on each review\n",
        "sentiments = []\n",
        "for review in df['Review']:\n",
        "    sentiment_score = TextBlob(str(review)).sentiment.polarity\n",
        "    if sentiment_score > 0:\n",
        "        sentiment = 'Positive'\n",
        "    elif sentiment_score < 0:\n",
        "        sentiment = 'Negative'\n",
        "    else:\n",
        "        sentiment = 'Neutral'\n",
        "    sentiments.append(sentiment)\n",
        "\n",
        "# Add sentiment analysis results to the DataFrame\n",
        "df['Sentiment'] = sentiments\n",
        "\n",
        "# Display the DataFrame with sentiment analysis results\n",
        "print(df[['Review', 'Sentiment']])"
      ]
    },
    {
      "cell_type": "code",
      "source": [
        "positive_reviews = df[df['Sentiment'] == 'Positive']\n",
        "# Display only the positive sentiment reviews\n",
        "print(positive_reviews[['Review', 'Sentiment']])"
      ],
      "metadata": {
        "colab": {
          "base_uri": "https://localhost:8080/"
        },
        "id": "ZV7eal5ngoLj",
        "outputId": "f033bf7d-9805-41d3-8ec6-e68228e43e0b"
      },
      "execution_count": null,
      "outputs": [
        {
          "output_type": "stream",
          "name": "stdout",
          "text": [
            "                                                  Review Sentiment\n",
            "0      Fast shipping but this product is very cheaply...  Positive\n",
            "1      This case takes so long to ship and it's not e...  Positive\n",
            "2      Good for not droids. Not good for iPhones. You...  Positive\n",
            "4      The case is nice but did not have a glow light...  Positive\n",
            "6      This pos broke off in my phone after 3 uses an...  Positive\n",
            "...                                                  ...       ...\n",
            "24995  These cables (lightning) are far superior to m...  Positive\n",
            "24996  This unit performs exactly as advertised.  I u...  Positive\n",
            "24997  I had the key cut at a local hardware store cu...  Positive\n",
            "24998  I love my case I ordered from amazon. It wasn'...  Positive\n",
            "24999  Awsome!!! I loved this little speaker. It has ...  Positive\n",
            "\n",
            "[18605 rows x 2 columns]\n"
          ]
        }
      ]
    },
    {
      "cell_type": "code",
      "source": [
        "neutral_reviews = df[df['Sentiment'] == 'Neutral']\n",
        "print(neutral_reviews['Sentiment'])"
      ],
      "metadata": {
        "colab": {
          "base_uri": "https://localhost:8080/"
        },
        "id": "3vQgE1Wxg1TH",
        "outputId": "f5355fde-54ab-46c7-8d7b-73580fe40dff"
      },
      "execution_count": null,
      "outputs": [
        {
          "output_type": "stream",
          "name": "stdout",
          "text": [
            "3        Neutral\n",
            "21       Neutral\n",
            "23       Neutral\n",
            "27       Neutral\n",
            "39       Neutral\n",
            "          ...   \n",
            "24915    Neutral\n",
            "24917    Neutral\n",
            "24938    Neutral\n",
            "24975    Neutral\n",
            "24988    Neutral\n",
            "Name: Sentiment, Length: 1833, dtype: object\n"
          ]
        }
      ]
    },
    {
      "cell_type": "code",
      "source": [
        "negative_reviews = df[df['Sentiment'] == 'Negative']\n",
        "print(negative_reviews['Sentiment'])"
      ],
      "metadata": {
        "colab": {
          "base_uri": "https://localhost:8080/"
        },
        "id": "Tdkt5mIZiAan",
        "outputId": "e3d0c24d-6df4-4fb1-a898-bd74835e142c"
      },
      "execution_count": null,
      "outputs": [
        {
          "output_type": "stream",
          "name": "stdout",
          "text": [
            "5        Negative\n",
            "7        Negative\n",
            "8        Negative\n",
            "9        Negative\n",
            "11       Negative\n",
            "           ...   \n",
            "24860    Negative\n",
            "24929    Negative\n",
            "24936    Negative\n",
            "24945    Negative\n",
            "24950    Negative\n",
            "Name: Sentiment, Length: 4562, dtype: object\n"
          ]
        }
      ]
    },
    {
      "cell_type": "code",
      "source": [],
      "metadata": {
        "id": "Y4FzzenfiAeB"
      },
      "execution_count": null,
      "outputs": []
    }
  ]
}